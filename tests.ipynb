{
 "cells": [
  {
   "cell_type": "code",
   "execution_count": 1,
   "metadata": {},
   "outputs": [],
   "source": [
    "from multi2 import *\n",
    "import numpy as np"
   ]
  },
  {
   "cell_type": "code",
   "execution_count": 2,
   "metadata": {},
   "outputs": [],
   "source": [
    "params = {\n",
    "    'processors' : [1, 2, 4, 6, 8, 10, 12],\n",
    "    'nodes' : list(range(100, 1001, 100)), \n",
    "    'prob' : list(np.linspace(.1, .9, 9)),\n",
    "    'blocking' : {\n",
    "        'random' : random, \n",
    "        'descending chunks' : descending_degree_chunks,\n",
    "        'descending within chunks' : descending_degree_within\n",
    "    }\n",
    "}"
   ]
  },
  {
   "cell_type": "code",
   "execution_count": 25,
   "metadata": {},
   "outputs": [],
   "source": [
    "def parallel_color_strat(G, p, blocking):\n",
    "    ''' Modified Algorithm 1 to take alternate blocking algorithms.'''\n",
    "    # Phase 1\n",
    "    # Takes blocking function \n",
    "    Vp = blocking(G, p)\n",
    "    min_blen = min([len(block) for block in Vp])\n",
    "    batches = nodes_iter(Vp)\n",
    "\n",
    "    manager = Manager()\n",
    "    coloring = manager.dict()\n",
    "\n",
    "    for i in range(len(batches)):\n",
    "\n",
    "        jobs = [Process(target=color_node, args=(G, batches[i][j], coloring,)) for j in range(p)]\n",
    "        _ = [proc.start() for proc in jobs]\n",
    "        _ = [proc.join() for proc in jobs]\n",
    "    \n",
    "    # Phase 2\n",
    "    A = []\n",
    "\n",
    "    for i in range(len(batches)):\n",
    "        for v in batches[i]:\n",
    "            for u in G.neighbors(v):\n",
    "                if u in batches[i]:\n",
    "                    if coloring[u] == coloring[v]:\n",
    "                        if min(u, v) not in A:\n",
    "                            A.append(min(u, v))\n",
    "\n",
    "    for v in A:\n",
    "        color_node(G, v, coloring)\n",
    "    return coloring, len(A)"
   ]
  },
  {
   "cell_type": "code",
   "execution_count": 26,
   "metadata": {},
   "outputs": [],
   "source": [
    "def run_tests(p, n, prob, blocking):\n",
    "    final_dict = {}\n",
    "    \n",
    "    G = nx.gnp_random_graph(n, prob)\n",
    "    \n",
    "    final_dict['avg_deg'] = avg_degree(G)\n",
    "\n",
    "    start_time = time.process_time()\n",
    "    color_p, num_conflicts = parallel_color_strat(G, p, blocking)\n",
    "    end_time = time.process_time()\n",
    "    \n",
    "    final_dict['runtime_parallel'] = end_time - start_time\n",
    "    final_dict['num_conflicts'] = num_conflicts\n",
    "    final_dict['chrom_num_parallel'] = max(color_p.values())\n",
    "\n",
    "    start_time = time.process_time()\n",
    "    color_g = greedy_color(G)\n",
    "    end_time = time.process_time()\n",
    "    \n",
    "    final_dict['runtime_greedy'] = end_time - start_time\n",
    "    final_dict['chrom_num_greedy'] = max(color_g.values())\n",
    "\n",
    "    return final_dict"
   ]
  },
  {
   "cell_type": "code",
   "execution_count": 27,
   "metadata": {},
   "outputs": [
    {
     "data": {
      "text/plain": [
       "{'avg_deg': 23.8,\n",
       " 'runtime_parallel': 0.45404900000000126,\n",
       " 'num_conflicts': 2,\n",
       " 'chrom_num_parallel': 11,\n",
       " 'runtime_greedy': 0.0004750000000015575,\n",
       " 'chrom_num_greedy': 11}"
      ]
     },
     "execution_count": 27,
     "metadata": {},
     "output_type": "execute_result"
    }
   ],
   "source": [
    "run_tests(12, 12*10, .2, random)"
   ]
  },
  {
   "cell_type": "code",
   "execution_count": null,
   "metadata": {},
   "outputs": [],
   "source": []
  }
 ],
 "metadata": {
  "kernelspec": {
   "display_name": "Python 3.7.6 64-bit ('base': conda)",
   "language": "python",
   "name": "python37664bitbaseconda9e65c572ed0444d5bc39393b7e6857ff"
  },
  "language_info": {
   "codemirror_mode": {
    "name": "ipython",
    "version": 3
   },
   "file_extension": ".py",
   "mimetype": "text/x-python",
   "name": "python",
   "nbconvert_exporter": "python",
   "pygments_lexer": "ipython3",
   "version": "3.7.7"
  }
 },
 "nbformat": 4,
 "nbformat_minor": 4
}
