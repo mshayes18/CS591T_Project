{
 "cells": [
  {
   "cell_type": "code",
   "execution_count": 1,
   "metadata": {},
   "outputs": [],
   "source": [
    "import math\n",
    "import matplotlib.pyplot as plt\n",
    "\n",
    "import networkx as nx\n",
    "\n",
    "from networkx.algorithms.centrality import edge_betweenness_centrality as bc_edges\n",
    "from networkx.algorithms.community.centrality import girvan_newman as get_comm\n",
    "from networkx import maximal_independent_set as max_is\n",
    "from networkx.algorithms.distance_measures import diameter\n",
    "from networkx.generators.random_graphs import gnp_random_graph as graph_gen\n",
    "from networkx.algorithms.distance_measures import extrema_bounding as approx_diameter\n",
    "\n",
    "\n",
    "# bc_edges(graph)\n",
    "# get_comm(graph)\n",
    "# max_is(graph)\n",
    "# diameter(graph)\n",
    "# approx_diamater(graph)\n",
    "# graph_gen(n, p)"
   ]
  },
  {
   "cell_type": "code",
   "execution_count": 2,
   "metadata": {},
   "outputs": [],
   "source": [
    "def coloring(graph1):\n",
    "    color = 1\n",
    "    color_dict = {}\n",
    "    G1 = graph1.copy()\n",
    "    \n",
    "    while(len(G1.edges) > 0):\n",
    "        curr_set = nx.algorithms.mis.maximal_independent_set(G1)\n",
    "        color_dict[color] = curr_set\n",
    "        color += 1\n",
    "        G1.remove_nodes_from(curr_set)\n",
    "    \n",
    "    color_dict[color] = list(G1.nodes)\n",
    "    return color_dict\n",
    "\n",
    "\n",
    "def get_k(graph, epsilon, delta, approx=False):\n",
    "    if approx:\n",
    "        diam = approx_diameter(graph)\n",
    "    else:\n",
    "        diam = diameter(graph)\n",
    "    print(diam)\n",
    "    k = 1/(epsilon**2) * (math.log((diam + 1), 2) + math.log(1/delta))\n",
    "    return math.ceil(k)\n",
    "\n",
    "\n",
    "def get_comms(graph, k):\n",
    "    comp = get_comm(graph)\n",
    "    for comm in comp:\n",
    "        if len(comm) == k:\n",
    "            return comm"
   ]
  },
  {
   "cell_type": "code",
   "execution_count": 28,
   "metadata": {},
   "outputs": [],
   "source": [
    "def node_chunks(G, p):\n",
    "    k, m = divmod(len(G.nodes), p)\n",
    "    chunks = [list(G.nodes)[i * k + min(i, m):(i + 1) * k + min(i + 1, m)] for i in range(p)]\n",
    "    return chunks"
   ]
  },
  {
   "cell_type": "code",
   "execution_count": 67,
   "metadata": {},
   "outputs": [],
   "source": [
    "# class that contains multiple blocking methods\n",
    "# random simply does the nodes in order \n",
    "# descending chunks for degree\n",
    "# descending within a chunk\n",
    "\n",
    "class Block:\n",
    "    def random(G, p):\n",
    "        k, m = divmod(len(G.nodes), p)\n",
    "        chunks = [list(G.nodes)[i * k + min(i, m):(i + 1) * k + min(i + 1, m)] for i in range(p)]\n",
    "        return chunks\n",
    "    \n",
    "    def descending_degree_chunks(G, p):\n",
    "        sorted_nodes = sorted(G, key=G.degree, reverse=True)\n",
    "        k, m = divmod(len(sorted_nodes), p)\n",
    "        chunks = [sorted_nodes[i * k + min(i, m):(i + 1) * k + min(i + 1, m)] for i in range(p)]\n",
    "        return chunks\n",
    "        \n",
    "    def descending_degree_within(G, p):\n",
    "        sorted_nodes = sorted(G, key=G.degree, reverse=True)\n",
    "        print(sorted_nodes)\n",
    "        chunks = [[] for _ in range(p)]\n",
    "        while (sorted_nodes):\n",
    "            for i in range(p):\n",
    "                if sorted_nodes:\n",
    "                    chunks[i].append(sorted_nodes.pop(0))\n",
    "        return chunks\n",
    "    \n",
    "    def staggered_degree(G, p):\n",
    "        # work in progress, unsure of how to stagger for optimality\n",
    "        sorted_nodes = sorted(G, key=G.degree, reverse=True)\n",
    "        \n",
    "        "
   ]
  },
  {
   "cell_type": "code",
   "execution_count": 68,
   "metadata": {},
   "outputs": [],
   "source": [
    "g1 = graph_gen(24, .2)\n",
    "# g1 = nx.path_graph(100)"
   ]
  },
  {
   "cell_type": "code",
   "execution_count": 69,
   "metadata": {},
   "outputs": [
    {
     "data": {
      "text/plain": [
       "[[1, 16, 3],\n",
       " [11, 14, 19],\n",
       " [2, 4, 13],\n",
       " [15, 21, 7],\n",
       " [9, 10, 22],\n",
       " [5, 6, 8],\n",
       " [17, 20, 0],\n",
       " [12, 18, 23]]"
      ]
     },
     "execution_count": 69,
     "metadata": {},
     "output_type": "execute_result"
    }
   ],
   "source": [
    "Block.descending_degree_chunks(g1, 8)"
   ]
  },
  {
   "cell_type": "code",
   "execution_count": 70,
   "metadata": {},
   "outputs": [
    {
     "name": "stdout",
     "output_type": "stream",
     "text": [
      "[1, 16, 3, 11, 14, 19, 2, 4, 13, 15, 21, 7, 9, 10, 22, 5, 6, 8, 17, 20, 0, 12, 18, 23]\n"
     ]
    },
    {
     "data": {
      "text/plain": [
       "[[1, 13, 6],\n",
       " [16, 15, 8],\n",
       " [3, 21, 17],\n",
       " [11, 7, 20],\n",
       " [14, 9, 0],\n",
       " [19, 10, 12],\n",
       " [2, 22, 18],\n",
       " [4, 5, 23]]"
      ]
     },
     "execution_count": 70,
     "metadata": {},
     "output_type": "execute_result"
    }
   ],
   "source": [
    "Block.descending_degree_within(g1, 8)"
   ]
  },
  {
   "cell_type": "code",
   "execution_count": 52,
   "metadata": {},
   "outputs": [],
   "source": [
    "cs = node_chunks(g1, 8)"
   ]
  },
  {
   "cell_type": "code",
   "execution_count": 35,
   "metadata": {},
   "outputs": [
    {
     "data": {
      "text/plain": [
       "[[0, 1, 2, 3, 4, 5, 6, 7, 8, 9, 10, 11, 12],\n",
       " [13, 14, 15, 16, 17, 18, 19, 20, 21, 22, 23, 24, 25],\n",
       " [26, 27, 28, 29, 30, 31, 32, 33, 34, 35, 36, 37, 38],\n",
       " [39, 40, 41, 42, 43, 44, 45, 46, 47, 48, 49, 50, 51],\n",
       " [52, 53, 54, 55, 56, 57, 58, 59, 60, 61, 62, 63],\n",
       " [64, 65, 66, 67, 68, 69, 70, 71, 72, 73, 74, 75],\n",
       " [76, 77, 78, 79, 80, 81, 82, 83, 84, 85, 86, 87],\n",
       " [88, 89, 90, 91, 92, 93, 94, 95, 96, 97, 98, 99]]"
      ]
     },
     "execution_count": 35,
     "metadata": {},
     "output_type": "execute_result"
    }
   ],
   "source": [
    "cs"
   ]
  },
  {
   "cell_type": "code",
   "execution_count": 33,
   "metadata": {},
   "outputs": [
    {
     "name": "stdout",
     "output_type": "stream",
     "text": [
      "13\n",
      "13\n",
      "13\n",
      "13\n",
      "12\n",
      "12\n",
      "12\n",
      "12\n"
     ]
    }
   ],
   "source": [
    "for chunk in cs:\n",
    "    print(len(chunk))"
   ]
  },
  {
   "cell_type": "code",
   "execution_count": 4,
   "metadata": {},
   "outputs": [],
   "source": [
    "blocks = get_comms(g1, 4)"
   ]
  },
  {
   "cell_type": "code",
   "execution_count": 5,
   "metadata": {},
   "outputs": [],
   "source": [
    "# blocks"
   ]
  },
  {
   "cell_type": "code",
   "execution_count": 6,
   "metadata": {},
   "outputs": [
    {
     "name": "stdout",
     "output_type": "stream",
     "text": [
      "{0, 4, 7, 8, 10, 13, 14, 16, 18}\n",
      "{1, 3}\n",
      "{2, 5, 6, 11, 12, 15, 17}\n",
      "{9, 19}\n"
     ]
    }
   ],
   "source": [
    "for block in blocks:\n",
    "    print(block)"
   ]
  },
  {
   "cell_type": "code",
   "execution_count": 7,
   "metadata": {},
   "outputs": [
    {
     "name": "stdout",
     "output_type": "stream",
     "text": [
      "5\n",
      "CPU times: user 621 µs, sys: 67 µs, total: 688 µs\n",
      "Wall time: 658 µs\n"
     ]
    },
    {
     "data": {
      "text/plain": [
       "260"
      ]
     },
     "execution_count": 7,
     "metadata": {},
     "output_type": "execute_result"
    }
   ],
   "source": [
    "%%time\n",
    "get_k(g1, .1, .99, approx=True)"
   ]
  },
  {
   "cell_type": "code",
   "execution_count": 8,
   "metadata": {},
   "outputs": [
    {
     "name": "stdout",
     "output_type": "stream",
     "text": [
      "5\n",
      "CPU times: user 1.5 ms, sys: 147 µs, total: 1.64 ms\n",
      "Wall time: 1.53 ms\n"
     ]
    },
    {
     "data": {
      "text/plain": [
       "260"
      ]
     },
     "execution_count": 8,
     "metadata": {},
     "output_type": "execute_result"
    }
   ],
   "source": [
    "%%time\n",
    "get_k(g1, .1, .99)"
   ]
  },
  {
   "cell_type": "code",
   "execution_count": 9,
   "metadata": {},
   "outputs": [],
   "source": [
    "import seaborn as sns"
   ]
  },
  {
   "cell_type": "code",
   "execution_count": 10,
   "metadata": {},
   "outputs": [
    {
     "data": {
      "text/plain": [
       "<matplotlib.axes._subplots.AxesSubplot at 0x7fbc08a9f0d0>"
      ]
     },
     "execution_count": 10,
     "metadata": {},
     "output_type": "execute_result"
    },
    {
     "data": {
      "image/png": "[encoded data removed]",
      "text/plain": [
       "<Figure size 2160x720 with 1 Axes>"
      ]
     },
     "metadata": {
      "needs_background": "light"
     },
     "output_type": "display_data"
    }
   ],
   "source": [
    "plt.figure(figsize=(30, 10))\n",
    "sns.barplot(y = list(dict(g1.degree()).values()), x=list(range(len(g1.nodes))))"
   ]
  },
  {
   "cell_type": "code",
   "execution_count": 15,
   "metadata": {},
   "outputs": [],
   "source": [
    "import collections\n",
    "import matplotlib.pyplot as plt\n",
    "import networkx as nx\n",
    "\n",
    "def degree_hist(graph):\n",
    "    g3 = graph\n",
    "    g3 = nx.gnp_random_graph(100, 0.1)\n",
    "\n",
    "    degree_sequence = sorted([d for n, d in g3.degree()], reverse=True)  # degree sequence\n",
    "    # print \"Degree sequence\", degree_sequence\n",
    "    degreeCount = collections.Counter(degree_sequence)\n",
    "    deg, cnt = zip(*degreeCount.items())\n",
    "\n",
    "    fig, ax = plt.subplots()\n",
    "    plt.bar(deg, cnt, width=0.80, color='b')\n",
    "\n",
    "    plt.title(\"Degree Histogram\")\n",
    "    plt.ylabel(\"Count\")\n",
    "    plt.xlabel(\"Degree\")\n",
    "    ax.set_xticks([d + 0.4 for d in deg])\n",
    "    ax.set_xticklabels(deg)\n",
    "\n",
    "    # draw graph in inset\n",
    "    # plt.axes([0.4, 0.4, 0.5, 0.5])\n",
    "    # Gcc = g3.subgraph(sorted(nx.connected_components(g3), key=len, reverse=True)[0])\n",
    "    # pos = nx.spring_layout(g3)\n",
    "    # plt.axis('off')\n",
    "    # nx.draw_networkx_nodes(g3, pos, node_size=20)\n",
    "    # nx.draw_networkx_edges(g3, pos, alpha=0.4)\n",
    "\n",
    "plt.show()"
   ]
  },
  {
   "cell_type": "code",
   "execution_count": 16,
   "metadata": {},
   "outputs": [],
   "source": [
    "# draw graph in inset\n",
    "def graph_plot(graph):\n",
    "    plt.figure(figsize=(30,30))\n",
    "    plt.axes([0.4, 0.4, 0.5, 0.5])\n",
    "    Gcc = g3.subgraph(sorted(nx.connected_components(graph), key=len, reverse=True)[0])\n",
    "    pos = nx.spring_layout(graph)\n",
    "    plt.axis('off')\n",
    "    nx.draw_networkx_nodes(graph, pos, node_size=20)\n",
    "    nx.draw_networkx_edges(graph, pos, alpha=0.4)"
   ]
  },
  {
   "cell_type": "code",
   "execution_count": 11,
   "metadata": {},
   "outputs": [
    {
     "ename": "NameError",
     "evalue": "name 'graph_plot' is not defined",
     "output_type": "error",
     "traceback": [
      "\u001b[0;31m---------------------------------------------------------------------------\u001b[0m",
      "\u001b[0;31mNameError\u001b[0m                                 Traceback (most recent call last)",
      "\u001b[0;32m<ipython-input-11-0bae067c1cbc>\u001b[0m in \u001b[0;36m<module>\u001b[0;34m\u001b[0m\n\u001b[0;32m----> 1\u001b[0;31m \u001b[0mgraph_plot\u001b[0m\u001b[0;34m(\u001b[0m\u001b[0mg1\u001b[0m\u001b[0;34m)\u001b[0m\u001b[0;34m\u001b[0m\u001b[0;34m\u001b[0m\u001b[0m\n\u001b[0m",
      "\u001b[0;31mNameError\u001b[0m: name 'graph_plot' is not defined"
     ]
    }
   ],
   "source": [
    "graph_plot(g1)"
   ]
  },
  {
   "cell_type": "code",
   "execution_count": 17,
   "metadata": {},
   "outputs": [],
   "source": [
    "from networkx.algorithms.coloring import greedy_color"
   ]
  },
  {
   "cell_type": "code",
   "execution_count": 18,
   "metadata": {},
   "outputs": [],
   "source": [
    "from multiprocessing import Pool\n",
    "cpu_count = 8"
   ]
  },
  {
   "cell_type": "code",
   "execution_count": 19,
   "metadata": {},
   "outputs": [],
   "source": [
    "our_list = list(range(2000))\n",
    "\n",
    "def my_func(x):\n",
    "    return x**2\n",
    "\n",
    "pool = Pool(cpu_count)"
   ]
  },
  {
   "cell_type": "code",
   "execution_count": 20,
   "metadata": {},
   "outputs": [],
   "source": [
    "new_list = pool.map(my_func, our_list)\n",
    "# new_list"
   ]
  },
  {
   "cell_type": "code",
   "execution_count": 21,
   "metadata": {},
   "outputs": [],
   "source": [
    "# our_dict = {}\n",
    "\n",
    "# def my_func2(x):\n",
    "#     global our_dict\n",
    "#     our_dict[x] = x**2\n",
    "#     return None\n",
    "\n",
    "# _ = pool.map(my_func2, our_list)"
   ]
  },
  {
   "cell_type": "code",
   "execution_count": 22,
   "metadata": {},
   "outputs": [
    {
     "data": {
      "text/plain": [
       "EdgeView([(0, 4), (0, 7), (0, 13), (0, 18), (1, 3), (1, 7), (2, 11), (2, 12), (2, 15), (2, 17), (2, 18), (3, 6), (3, 12), (3, 14), (3, 18), (4, 18), (5, 7), (5, 11), (6, 17), (7, 10), (7, 16), (8, 9), (8, 10), (8, 14), (8, 18), (9, 13), (9, 19), (11, 12), (11, 13), (11, 17), (12, 14), (13, 16), (13, 18), (14, 18), (17, 18)])"
      ]
     },
     "execution_count": 22,
     "metadata": {},
     "output_type": "execute_result"
    }
   ],
   "source": [
    "g1.edges"
   ]
  },
  {
   "cell_type": "code",
   "execution_count": 23,
   "metadata": {},
   "outputs": [
    {
     "data": {
      "text/plain": [
       "{0: {4: {}, 7: {}, 13: {}, 18: {}},\n",
       " 1: {3: {}, 7: {}},\n",
       " 2: {11: {}, 12: {}, 15: {}, 17: {}, 18: {}},\n",
       " 3: {1: {}, 6: {}, 12: {}, 14: {}, 18: {}},\n",
       " 4: {0: {}, 18: {}},\n",
       " 5: {7: {}, 11: {}},\n",
       " 6: {3: {}, 17: {}},\n",
       " 7: {0: {}, 1: {}, 5: {}, 10: {}, 16: {}},\n",
       " 8: {9: {}, 10: {}, 14: {}, 18: {}},\n",
       " 9: {8: {}, 13: {}, 19: {}},\n",
       " 10: {7: {}, 8: {}},\n",
       " 11: {2: {}, 5: {}, 12: {}, 13: {}, 17: {}},\n",
       " 12: {2: {}, 3: {}, 11: {}, 14: {}},\n",
       " 13: {0: {}, 9: {}, 11: {}, 16: {}, 18: {}},\n",
       " 14: {3: {}, 8: {}, 12: {}, 18: {}},\n",
       " 15: {2: {}},\n",
       " 16: {7: {}, 13: {}},\n",
       " 17: {2: {}, 6: {}, 11: {}, 18: {}},\n",
       " 18: {0: {}, 2: {}, 3: {}, 4: {}, 8: {}, 13: {}, 14: {}, 17: {}},\n",
       " 19: {9: {}}}"
      ]
     },
     "execution_count": 23,
     "metadata": {},
     "output_type": "execute_result"
    }
   ],
   "source": [
    "nx.convert.to_dict_of_dicts(g1)"
   ]
  },
  {
   "cell_type": "code",
   "execution_count": 24,
   "metadata": {},
   "outputs": [],
   "source": [
    "from multiprocessing import Pool, Process, Manager\n",
    "\n",
    "from functools import partial\n",
    "\n",
    "cpu_count = 8\n",
    "\n",
    "# Assumes G = {node:{node, node, node}, ...} dict of sets representation\n",
    "def parallel_color(G, n_jobs=8):\n",
    "    if len(G) == 0:\n",
    "        return {}\n",
    "    manager = Manager()\n",
    "    d = manager.dict()\n",
    "        \n",
    "    \n",
    "    \n",
    "    "
   ]
  },
  {
   "cell_type": "code",
   "execution_count": null,
   "metadata": {},
   "outputs": [
    {
     "name": "stdout",
     "output_type": "stream",
     "text": [
      "{0: 0, 1: 1, 2: 2, 3: 3, 4: 4, 5: 5, 6: 6, 7: 7, 8: 8, 9: 9}\n"
     ]
    }
   ],
   "source": [
    "def f(d, x):\n",
    "#     d_sum = sum([d[i]/10 for i in d])\n",
    "#     print(d_sum)\n",
    "    print(sum(d.keys()))\n",
    "    d[x] = x**2\n",
    "    \n",
    "manager = Manager()\n",
    "li = mana\n",
    "di = manager.dict()\n",
    "\n",
    "for i in range(10):\n",
    "    di[i] = i\n",
    "print(di)\n",
    "\n",
    "pool = Pool(8)\n",
    "\n",
    "my_list = range(10)\n",
    "\n",
    "func = partial(f, di)\n",
    "\n",
    "pool.map(func, my_list)\n",
    "pool.close()\n",
    "\n",
    "# job = [Process(target=f, args=(d, i)) for i in range(100000)]\n",
    "# _ = [p.start() for p in job]\n",
    "# _ = [p.join() for p in job]\n",
    "print(di)"
   ]
  },
  {
   "cell_type": "code",
   "execution_count": null,
   "metadata": {},
   "outputs": [],
   "source": []
  },
  {
   "cell_type": "code",
   "execution_count": null,
   "metadata": {},
   "outputs": [],
   "source": []
  }
 ],
 "metadata": {
  "kernelspec": {
   "display_name": "Python 3.7.6 64-bit ('base': conda)",
   "language": "python",
   "name": "python37664bitbaseconda9e65c572ed0444d5bc39393b7e6857ff"
  },
  "language_info": {
   "codemirror_mode": {
    "name": "ipython",
    "version": 3
   },
   "file_extension": ".py",
   "mimetype": "text/x-python",
   "name": "python",
   "nbconvert_exporter": "python",
   "pygments_lexer": "ipython3",
   "version": "3.7.7"
  }
 },
 "nbformat": 4,
 "nbformat_minor": 4
}
